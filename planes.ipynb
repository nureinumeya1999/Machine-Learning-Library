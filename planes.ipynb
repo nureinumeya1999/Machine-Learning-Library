{
 "cells": [
  {
   "cell_type": "code",
   "execution_count": null,
   "metadata": {},
   "outputs": [],
   "source": [
    "import numpy as np\n",
    "import json\n",
    "import os\n",
    "from NeuralNetStructure.imagetools import ImageTools\n",
    "import math, cv2"
   ]
  },
  {
   "cell_type": "code",
   "execution_count": null,
   "metadata": {},
   "outputs": [],
   "source": [
    "%pwd"
   ]
  },
  {
   "cell_type": "code",
   "execution_count": null,
   "metadata": {},
   "outputs": [],
   "source": [
    "from preprocessor import Preprocessor\n",
    "data = Preprocessor(\"planes\", \"planesnet.json\")\n",
    "X, y, X_test, y_test = data.preprocess(0.75, dims=\"2D\")\n"
   ]
  },
  {
   "cell_type": "code",
   "execution_count": null,
   "metadata": {},
   "outputs": [],
   "source": [
    "from NeuralNetStructure import layer, loss, accuracy, activation, optimizers, nnet, pool, dropout\n",
    "\n"
   ]
  },
  {
   "cell_type": "code",
   "execution_count": null,
   "metadata": {},
   "outputs": [],
   "source": [
    "model = nnet.Model(\"2D\", resolution=(100, 100))\n",
    "\n",
    "model.add(layer.Layer_Conv(input_channels=1, num_filters=3, weight_regularizer_L2=0, bias_regularizer_L2=0), \"CONV\")\n",
    "model.add(activation.Activation_ReLU(), \"CONV\")\n",
    "model.add(pool.Pool(pool_dims=(2, 2), stride=(2, 2)), \"CONV\")\n",
    "model.add(layer.Layer_Conv(input_channels=3, num_filters=3, weight_regularizer_L2=0, bias_regularizer_L2=0), \"CONV\")\n",
    "model.add(activation.Activation_ReLU(), \"CONV\")\n",
    "model.add(pool.Pool(pool_dims=(2, 2), stride=(2, 2)), \"CONV\")\n",
    "model.add(layer.Layer_Flatten(), \"CONV\")"
   ]
  },
  {
   "cell_type": "code",
   "execution_count": null,
   "metadata": {},
   "outputs": [],
   "source": [
    "model.conv_dims\n",
    "dense_feature_num = int(model.conv_dims[-1][0] * model.conv_dims[-1][1] * model.conv_dims[-1][2])\n",
    "print(model.conv_dims, dense_feature_num)"
   ]
  },
  {
   "cell_type": "code",
   "execution_count": null,
   "metadata": {},
   "outputs": [],
   "source": [
    "model.add(layer.Layer_Dense(dense_feature_num, 100, \n",
    "    weight_regularizer_L2=1e-4, bias_regularizer_L2=1e-4), 'DENSE')\n",
    "model.add(activation.Activation_ReLU(), \"DENSE\")\n",
    "model.add(dropout.Layer_Dropout(0.2), 'DENSE')\n",
    "\n",
    "model.add(layer.Layer_Dense(100, 1, \n",
    "weight_regularizer_L2=1e-4, bias_regularizer_L2=1e-4), 'DENSE')\n",
    "\n",
    "model.add(activation.Activation_Sigmoid(), 'DENSE')\n",
    "\n",
    "model.set(\n",
    "    loss=loss.Loss_BinaryCrossentropy(),\n",
    "    optimizer=optimizers.Optimizer_Adam(learning_rate=0.001, decay=2e-7),\n",
    "    accuracy=accuracy.Accuracy_Binary()\n",
    ")\n",
    "\n",
    "model.finalize()\n"
   ]
  },
  {
   "cell_type": "code",
   "execution_count": null,
   "metadata": {},
   "outputs": [],
   "source": [
    "model.save_parameters(\"Memory\\\\planes\\\\Parameters\")"
   ]
  },
  {
   "cell_type": "code",
   "execution_count": null,
   "metadata": {},
   "outputs": [],
   "source": [
    "model.save(os.path.join(\"VisualCortex\", \"planesnet.nucleus\"))"
   ]
  },
  {
   "cell_type": "code",
   "execution_count": null,
   "metadata": {},
   "outputs": [],
   "source": [
    "model.train(X[:1000], y[:1000], epochs=50, batch_size=32, print_every=10, validation_data=(X_test[:20], y_test[:20]))\n"
   ]
  }
 ],
 "metadata": {
  "kernelspec": {
   "display_name": "Python 3.10.4 ('venvMSight')",
   "language": "python",
   "name": "python3"
  },
  "language_info": {
   "codemirror_mode": {
    "name": "ipython",
    "version": 3
   },
   "file_extension": ".py",
   "mimetype": "text/x-python",
   "name": "python",
   "nbconvert_exporter": "python",
   "pygments_lexer": "ipython3",
   "version": "3.10.4"
  },
  "orig_nbformat": 4,
  "vscode": {
   "interpreter": {
    "hash": "9851502d98244af6e5750f1009b385ffbfaee7919b57820892093613d073f102"
   }
  }
 },
 "nbformat": 4,
 "nbformat_minor": 2
}
