{
 "cells": [
  {
   "cell_type": "code",
   "execution_count": null,
   "metadata": {},
   "outputs": [],
   "source": [
    "import socket\n",
    "import threading\n",
    "import time\n",
    "import cv2, os, json, pickle, uuid, sys"
   ]
  },
  {
   "cell_type": "code",
   "execution_count": null,
   "metadata": {},
   "outputs": [],
   "source": [
    "\n",
    "import numpy as np\n",
    "from NeuralNetStructure import accuracy, activation, dropout,  layer, loss, nnet, optimizers, pool\n",
    "from preprocessor import Preprocessor\n",
    "from NeuralNetStructure.imagetools import ImageTools"
   ]
  },
  {
   "cell_type": "code",
   "execution_count": null,
   "metadata": {},
   "outputs": [],
   "source": [
    "PORT = 5050\n",
    "SERVER = socket.gethostbyname(socket.gethostname())\n",
    "ADDR = (SERVER, PORT)\n",
    "server = socket.socket(socket.AF_INET, socket.SOCK_STREAM)\n",
    "server.bind(ADDR)\n",
    "HEADER = 2\n",
    "FORMAT = 'utf-8'\n",
    "DISCONNECT_MESSAGE = \"!DISCONNECT\""
   ]
  },
  {
   "cell_type": "code",
   "execution_count": null,
   "metadata": {},
   "outputs": [],
   "source": [
    "SERVER"
   ]
  },
  {
   "cell_type": "code",
   "execution_count": null,
   "metadata": {},
   "outputs": [],
   "source": [
    "def getCmd():\n",
    "    global command\n",
    "    cap = cv2.VideoCapture(0)\n",
    "    CLASSES = [\"ARM_CROSS\", \"BACK_HAND\", \"FIST\", \"FRONT_HAND\", \"POINT_LEFT\", \"POINT_RIGHT\", \"PRAN_MUDRA\"]\n",
    "    mordecAI = nnet.Model.load(\"../VisualCortex/handsigns_classifier.nucleus\")\n",
    "\n",
    "    font                   = cv2.FONT_HERSHEY_SIMPLEX\n",
    "    bottomLeftCornerOfText = (20,20)\n",
    "    fontScale              = 0.5\n",
    "    fontColor              = (72,251,0)\n",
    "    thickness              = 1\n",
    "    lineType               = 2\n",
    "\n",
    "    while True:\n",
    "        ret, frame = cap.read()\n",
    "\n",
    "        frame = frame[100:300, 220:420, :]\n",
    "        img = cv2.resize(frame, (100, 100))\n",
    "        img = ImageTools.channelLastToFirst(img)\n",
    "        output = mordecAI.forward(np.expand_dims(img, 0), False)\n",
    "        prediction = CLASSES[np.argmax(output)] if np.max(output) > 0.9 else \"None\"\n",
    "        cv2.putText(frame,f'{prediction}', \n",
    "        bottomLeftCornerOfText, \n",
    "        font, \n",
    "        fontScale,\n",
    "        fontColor,\n",
    "        thickness,\n",
    "        lineType)\n",
    "\n",
    "        command = prediction\n",
    "\n",
    "        cv2.imshow(\"test\", frame)\n",
    "        if cv2.waitKey(1) == 27:\n",
    "            cv2.destroyAllWindows()\n",
    "            break"
   ]
  },
  {
   "cell_type": "code",
   "execution_count": null,
   "metadata": {},
   "outputs": [],
   "source": [
    "mSight = threading.Thread(target=getCmd)"
   ]
  },
  {
   "cell_type": "code",
   "execution_count": null,
   "metadata": {},
   "outputs": [],
   "source": [
    "def handleClient(conn, addr, server=None):\n",
    "    \n",
    "    global command\n",
    "    MASTER = True if server else False\n",
    "    print(f\"[NEW CONNECTION] : {addr} connected.\")\n",
    "\n",
    "    mSight.start()\n",
    "    connected = True\n",
    "    while connected:\n",
    "\n",
    "        try:\n",
    "            if command != \"None\":\n",
    "                conn.send(f\"{command}\".encode(FORMAT))\n",
    "                print(f\"mordecAI: {command}\")\n",
    "        except Exception as e:\n",
    "            print(\"Engine shut down.\")\n",
    "            break\n",
    "\n",
    "        #command = \"None\"\n",
    "      \n",
    "    conn.close()\n",
    "    if server is not None:\n",
    "        server.close()\n",
    "\n",
    "def start():\n",
    "    server.listen()\n",
    "    print(f\"[LISTENING]: Server is listening on {SERVER}\")\n",
    "    conn, addr = server.accept()\n",
    "    master = threading.Thread(target=handleClient, args=[conn, addr, server])\n",
    "    master.start()\n",
    "    while True:\n",
    "        try:\n",
    "            conn, addr = server.accept() # this will throw an exception when server closes. \n",
    "            client = threading.Thread(target=handleClient, args=[conn, addr])\n",
    "            client.start()\n",
    "        except Exception as e:\n",
    "            print(\"mordecAI shut down.\")\n",
    "            break\n",
    "\n"
   ]
  },
  {
   "cell_type": "code",
   "execution_count": null,
   "metadata": {},
   "outputs": [],
   "source": [
    "command = \"None\"\n",
    "print(f\"[STARTING] Server is starting...\")\n",
    "start()\n"
   ]
  },
  {
   "cell_type": "code",
   "execution_count": 1,
   "metadata": {},
   "outputs": [
    {
     "name": "stdout",
     "output_type": "stream",
     "text": [
      "Collecting numba\n",
      "  Downloading numba-0.55.2-cp310-cp310-win_amd64.whl (2.4 MB)\n",
      "     ---------------------------------------- 2.4/2.4 MB 18.8 MB/s eta 0:00:00\n",
      "Requirement already satisfied: numpy<1.23,>=1.18 in c:\\users\\nurei\\source\\repos\\markam\\msight\\genesis\\venvmsight\\lib\\site-packages (from numba) (1.22.3)\n",
      "Requirement already satisfied: setuptools in c:\\users\\nurei\\source\\repos\\markam\\msight\\genesis\\venvmsight\\lib\\site-packages (from numba) (62.1.0)\n",
      "Collecting llvmlite<0.39,>=0.38.0rc1\n",
      "  Downloading llvmlite-0.38.1-cp310-cp310-win_amd64.whl (23.2 MB)\n",
      "     --------------------------------------- 23.2/23.2 MB 32.7 MB/s eta 0:00:00\n",
      "Installing collected packages: llvmlite, numba\n",
      "Successfully installed llvmlite-0.38.1 numba-0.55.2\n",
      "Note: you may need to restart the kernel to use updated packages.\n"
     ]
    },
    {
     "name": "stderr",
     "output_type": "stream",
     "text": [
      "WARNING: You are using pip version 22.0.4; however, version 22.1.2 is available.\n",
      "You should consider upgrading via the 'c:\\Users\\nurei\\source\\repos\\MARKAM\\MSight\\Genesis\\venvMSight\\Scripts\\python.exe -m pip install --upgrade pip' command.\n"
     ]
    }
   ],
   "source": [
    "%pip install numba"
   ]
  }
 ],
 "metadata": {
  "kernelspec": {
   "display_name": "Python 3.10.4 ('venvMSight': venv)",
   "language": "python",
   "name": "python3"
  },
  "language_info": {
   "codemirror_mode": {
    "name": "ipython",
    "version": 3
   },
   "file_extension": ".py",
   "mimetype": "text/x-python",
   "name": "python",
   "nbconvert_exporter": "python",
   "pygments_lexer": "ipython3",
   "version": "3.10.4"
  },
  "orig_nbformat": 4,
  "vscode": {
   "interpreter": {
    "hash": "9851502d98244af6e5750f1009b385ffbfaee7919b57820892093613d073f102"
   }
  }
 },
 "nbformat": 4,
 "nbformat_minor": 2
}
