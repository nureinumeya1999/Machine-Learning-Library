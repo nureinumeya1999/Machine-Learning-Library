{
 "cells": [
  {
   "cell_type": "code",
   "execution_count": null,
   "metadata": {},
   "outputs": [],
   "source": [
    "import cv2, os, json, pickle, uuid, time\n",
    "import numpy as np\n",
    "from NeuralNetStructure import accuracy, activation, dropout,  layer, loss, nnet, optimizers, pool\n",
    "from preprocessor import Preprocessor\n",
    "from NeuralNetStructure.imagetools import ImageTools\n",
    "import numba \n",
    "\n"
   ]
  },
  {
   "cell_type": "code",
   "execution_count": null,
   "metadata": {},
   "outputs": [],
   "source": [
    "DATASET_NAME = \"HandSigns\"\n",
    "DATASET_PATH = os.path.join(\"Memory\", DATASET_NAME)\n",
    "CLASSES_PATH = os.path.join(DATASET_PATH, \"Classes\")\n",
    "CLASSES = {}"
   ]
  },
  {
   "cell_type": "code",
   "execution_count": null,
   "metadata": {},
   "outputs": [],
   "source": [
    "prep = Preprocessor(\"HandSigns\", (100, 100))\n"
   ]
  },
  {
   "cell_type": "code",
   "execution_count": null,
   "metadata": {},
   "outputs": [],
   "source": [
    "X, y, X_test, y_test = prep.preprocess(0.80, \"2D\")"
   ]
  },
  {
   "cell_type": "code",
   "execution_count": null,
   "metadata": {},
   "outputs": [],
   "source": [
    "X.shape, y.shape"
   ]
  },
  {
   "cell_type": "code",
   "execution_count": null,
   "metadata": {},
   "outputs": [],
   "source": [
    "CLASSES = [\"ARM_CROSS\", \"BACK_HAND\", \"FIST\", \"FRONT_HAND\", \"POINT_LEFT\", \"POINT_RIGHT\", \"PRAN_MUDRA\"]"
   ]
  },
  {
   "cell_type": "code",
   "execution_count": null,
   "metadata": {},
   "outputs": [],
   "source": [
    "y_hot = np.eye(len(CLASSES))[y]\n",
    "y_test_hot = np.eye(len(CLASSES))[y_test]"
   ]
  },
  {
   "cell_type": "code",
   "execution_count": null,
   "metadata": {},
   "outputs": [],
   "source": [
    "y_hot"
   ]
  },
  {
   "cell_type": "code",
   "execution_count": null,
   "metadata": {},
   "outputs": [],
   "source": [
    "model = nnet.Model(\"2D\", (100, 100))"
   ]
  },
  {
   "cell_type": "code",
   "execution_count": null,
   "metadata": {},
   "outputs": [],
   "source": [
    "model.add(layer.Layer_Conv(input_channels=3, num_filters=1, filter_dims = (5, 5), stride=(1, 1), weight_regularizer_L2=0, bias_regularizer_L2=0), \"CONV\")\n",
    "model.add(activation.Activation_ReLU(), \"CONV\")\n",
    "model.add(pool.Pool(pool_dims=(2, 2), stride=(2, 2)), \"CONV\")\n",
    "model.add(layer.Layer_Conv(input_channels=1, num_filters=3, filter_dims = (5, 5), stride=(1, 1), weight_regularizer_L2=0, bias_regularizer_L2=0), \"CONV\")\n",
    "model.add(activation.Activation_ReLU(), \"CONV\")\n",
    "model.add(pool.Pool(pool_dims=(2, 2), stride=(2, 2)), \"CONV\")\n",
    "model.add(layer.Layer_Flatten(), \"CONV\")"
   ]
  },
  {
   "cell_type": "code",
   "execution_count": null,
   "metadata": {},
   "outputs": [],
   "source": [
    "model.conv_dims"
   ]
  },
  {
   "cell_type": "code",
   "execution_count": null,
   "metadata": {},
   "outputs": [],
   "source": [
    "\n",
    "dense_feature_num = int(model.conv_dims[-1][0] * model.conv_dims[-1][1] * model.conv_dims[-1][2])"
   ]
  },
  {
   "cell_type": "code",
   "execution_count": null,
   "metadata": {},
   "outputs": [],
   "source": [
    "dense_feature_num"
   ]
  },
  {
   "cell_type": "code",
   "execution_count": null,
   "metadata": {},
   "outputs": [],
   "source": [
    "model.add(layer.Layer_Dense(dense_feature_num, 64, \n",
    "    weight_regularizer_L2=1e-4, bias_regularizer_L2=1e-4), 'DENSE')\n",
    "model.add(activation.Activation_ReLU(), \"DENSE\")\n",
    "model.add(dropout.Layer_Dropout(0.2), 'DENSE')\n",
    "\n",
    "model.add(layer.Layer_Dense(64, 7, \n",
    "weight_regularizer_L2=1e-4, bias_regularizer_L2=1e-4), 'DENSE')\n",
    "\n",
    "model.add(activation.Activation_Sigmoid(), 'DENSE')\n",
    "\n",
    "model.set(\n",
    "    loss=loss.Loss_BinaryCrossentropy(),\n",
    "    optimizer=optimizers.Optimizer_Adam(learning_rate=0.001, decay=5e-7),\n",
    "    accuracy=accuracy.Accuracy_Binary()\n",
    ")\n",
    "\n",
    "model.finalize()"
   ]
  },
  {
   "cell_type": "code",
   "execution_count": null,
   "metadata": {},
   "outputs": [],
   "source": [
    "model.train(X, y_hot,  epochs=100, batch_size = 64, validation_data=(X_test, y_test_hot))\n"
   ]
  },
  {
   "cell_type": "code",
   "execution_count": null,
   "metadata": {},
   "outputs": [],
   "source": [
    "model.output_layer_activation.predictions(model.output_layer_activation.output)"
   ]
  },
  {
   "cell_type": "code",
   "execution_count": null,
   "metadata": {},
   "outputs": [],
   "source": [
    "model.save_parameters(\"Memory\\\\HandSigns\\\\Parameters\")"
   ]
  },
  {
   "cell_type": "code",
   "execution_count": null,
   "metadata": {},
   "outputs": [],
   "source": [
    "#model.save_parameters(\"Memory\\\\HandSigns\\\\Parameters\")\n",
    "model.save(\"../VisualCortex/handsigns_classifier.nucleus\")"
   ]
  },
  {
   "cell_type": "code",
   "execution_count": null,
   "metadata": {},
   "outputs": [],
   "source": [
    "for CLASS_PATH in os.listdir(CLASSES_PATH):\n",
    "    for img in os.listdir(os.path.join(CLASSES_PATH, CLASS_PATH)):\n",
    "        name = img\n",
    "        IMG_PATH = os.path.join(CLASSES_PATH, CLASS_PATH, name)\n",
    "        img = cv2.imread(IMG_PATH)\n",
    "        cv2.resize(img, (100, 100))"
   ]
  },
  {
   "cell_type": "code",
   "execution_count": null,
   "metadata": {},
   "outputs": [],
   "source": [
    "mordecAI = nnet.Model.load(\"../VisualCortex/handsigns_classifier.nucleus\")"
   ]
  },
  {
   "cell_type": "code",
   "execution_count": null,
   "metadata": {},
   "outputs": [],
   "source": [
    "model.predict(np.expand_dims(X[0], 0))"
   ]
  },
  {
   "cell_type": "code",
   "execution_count": null,
   "metadata": {},
   "outputs": [],
   "source": [
    "cap = cv2.VideoCapture(0)\n",
    "font                   = cv2.FONT_HERSHEY_SIMPLEX\n",
    "bottomLeftCornerOfText = (250,250)\n",
    "fontScale              = 0.5\n",
    "fontColor              = (72,251,0)\n",
    "thickness              = 1\n",
    "lineType               = 2"
   ]
  },
  {
   "cell_type": "code",
   "execution_count": null,
   "metadata": {},
   "outputs": [],
   "source": [
    "\n",
    "\n",
    "while True:\n",
    "    ret, frame = cap.read()\n",
    "\n",
    "    img = cv2.resize(frame[100:300, 220:420, :], (100, 100))\n",
    "    img = ImageTools.channelLastToFirst(img)\n",
    "\n",
    "    output = model.forward(np.expand_dims(img, 0), False)\n",
    "    prediction = CLASSES[np.argmax(output)] if np.max(output) > 0.99 else \"NONE\"\n",
    "\n",
    "\n",
    "    cv2.putText(frame,f'{prediction}', \n",
    "    bottomLeftCornerOfText, \n",
    "    font, \n",
    "    fontScale,\n",
    "    fontColor,\n",
    "    thickness,\n",
    "    lineType)\n",
    "\n",
    "    command = prediction\n",
    "\n",
    "    cv2.imshow(\"test\", frame[100:300, 220:420, :])\n",
    "\n",
    "    if cv2.waitKey(1) == 27:\n",
    "        cv2.destroyAllWindows()\n",
    "        break"
   ]
  }
 ],
 "metadata": {
  "kernelspec": {
   "display_name": "Python 3.10.4 ('venvMSight': venv)",
   "language": "python",
   "name": "python3"
  },
  "language_info": {
   "codemirror_mode": {
    "name": "ipython",
    "version": 3
   },
   "file_extension": ".py",
   "mimetype": "text/x-python",
   "name": "python",
   "nbconvert_exporter": "python",
   "pygments_lexer": "ipython3",
   "version": "3.10.4"
  },
  "orig_nbformat": 4,
  "vscode": {
   "interpreter": {
    "hash": "9851502d98244af6e5750f1009b385ffbfaee7919b57820892093613d073f102"
   }
  }
 },
 "nbformat": 4,
 "nbformat_minor": 2
}
